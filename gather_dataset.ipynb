{
 "cells": [
  {
   "cell_type": "code",
   "execution_count": 1,
   "metadata": {},
   "outputs": [],
   "source": [
    "import pandas as pd\n"
   ]
  },
  {
   "cell_type": "code",
   "execution_count": null,
   "metadata": {},
   "outputs": [],
   "source": [
    "gene_pm2p5_2023 = pd.read_csv('./raw_Data/AMS_Observacions/gene_pm2p5_2023.csv')\n",
    "gene_pm10_2023 = pd.read_csv('./raw_Data/AMS_Observacions/gene_pm10_2023.csv')\n",
    "gene_sconcno2_2023_xvpca_emep_port = pd.read_csv('./raw_Data/AMS_Observacions/gene_sconcno2_2023_xvpca_emep_port.csv')\n",
    "gene_sconco3_2023_xvpca_emep = pd.read_csv('./raw_Data/AMS_Observacions/gene_sconco3_2023_xvpca_emep.csv')\n",
    "\n",
    "# info about the stations\n",
    "# code\t     lon\t      lat\t     type   \n",
    "# ES0010R\t42.319174\t3.315828\tF – Fons\n",
    "XVPCA_info_pm2p5_2023 = pd.read_csv('./raw_Data/AMS_Observacions/XVPCA_info_pm2p5_2023.csv')\n",
    "XVPCA_info_pm10_2023 = pd.read_csv('./raw_Data/AMS_Observacions/XVPCA_info_pm10_2023.csv')\n",
    "XVPCA_info_sconcno2_2023 = pd.read_csv('./raw_Data/AMS_Observacions/XVPCA_info_sconcno2_2023.csv')\n",
    "XVPCA_info_sconco3_2023 = pd.read_csv('./raw_Data/AMS_Observacions/XVPCA_info_sconco3_2023.csv')"
   ]
  }
 ],
 "metadata": {
  "kernelspec": {
   "display_name": "Python 3",
   "language": "python",
   "name": "python3"
  },
  "language_info": {
   "codemirror_mode": {
    "name": "ipython",
    "version": 3
   },
   "file_extension": ".py",
   "mimetype": "text/x-python",
   "name": "python",
   "nbconvert_exporter": "python",
   "pygments_lexer": "ipython3",
   "version": "3.10.12"
  }
 },
 "nbformat": 4,
 "nbformat_minor": 2
}
